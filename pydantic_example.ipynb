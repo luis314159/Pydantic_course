{
 "cells": [
  {
   "cell_type": "markdown",
   "metadata": {},
   "source": [
    "### Pydantic example notebook\n",
    "\n",
    "Pydantic es una biblioteca de Python que facilita la validación y la serialización de datos mediante el uso de clases y tipos anotados. Está diseñada para trabajar de manera sencilla con datos estructurados, como los que se utilizan comúnmente en APIs y modelos de datos.\n",
    "\n",
    "\n",
    "**Características principales de Pydantic:**\n",
    "\n",
    "* **Validación de datos:** Pydantic valida automáticamente los datos de entrada según las anotaciones de tipo especificadas en las clases. Esto asegura que los datos tengan el formato y el tipo correctos antes de ser utilizados en la aplicación.\n",
    "\n",
    "* **Conversión de datos:** Además de la validación, Pydantic también convierte los datos a los tipos esperados si es posible. Por ejemplo, si se espera un entero pero se recibe una cadena que representa un número, Pydantic intentará convertir esa cadena en un entero.\n",
    "\n",
    "* **Modelos de datos:** Pydantic utiliza clases para definir modelos de datos. Cada clase representa un esquema de datos, donde los atributos de la clase definen los campos del modelo y sus tipos esperados.\n",
    "\n",
    "**Serialización y deserialización:** Los modelos de Pydantic pueden ser fácilmente convertidos a formatos JSON o dictados de Python, lo que facilita su uso en APIs y en la comunicación entre diferentes partes de una aplicación.\n",
    "\n",
    "**Integración con FastAPI:** Pydantic es la biblioteca utilizada por FastAPI para manejar la validación y la serialización de datos. Esto hace que sea una herramienta poderosa y eficiente para construir aplicaciones web con esta tecnología."
   ]
  },
  {
   "cell_type": "code",
   "execution_count": 3,
   "metadata": {},
   "outputs": [],
   "source": [
    "#Import dependencies\n",
    "from pydantic import BaseModel\n",
    "\n",
    "#Create model\n",
    "class User(BaseModel):\n",
    "    id: int\n",
    "    name: str\n",
    "    email: str"
   ]
  },
  {
   "cell_type": "code",
   "execution_count": 4,
   "metadata": {},
   "outputs": [
    {
     "name": "stdout",
     "output_type": "stream",
     "text": [
      "Luis\n"
     ]
    }
   ],
   "source": [
    "# Create user data with valid data\n",
    "user = User(id=1, name=\"Luis\", email=\"luis@example.com\")\n",
    "\n",
    "# printing atributes\n",
    "print(user.name)  # output: Luis"
   ]
  },
  {
   "cell_type": "code",
   "execution_count": 6,
   "metadata": {},
   "outputs": [
    {
     "name": "stdout",
     "output_type": "stream",
     "text": [
      "{\"id\":1,\"name\":\"Luis\",\"email\":\"luis@example.com\"}\n"
     ]
    }
   ],
   "source": [
    "# Serialization a JSON\n",
    "print(user.json())  # output: {\"id\": 1, \"name\": \"Luis\", \"email\": \"luis@example.com\"}"
   ]
  },
  {
   "cell_type": "code",
   "execution_count": 8,
   "metadata": {},
   "outputs": [
    {
     "name": "stdout",
     "output_type": "stream",
     "text": [
      "1 validation error for User\n",
      "id\n",
      "  Input should be a valid integer, unable to parse string as an integer [type=int_parsing, input_value='uno', input_type=str]\n",
      "    For further information visit https://errors.pydantic.dev/2.8/v/int_parsing\n"
     ]
    }
   ],
   "source": [
    "# Try to create a user with invalid data\n",
    "try:\n",
    "    invalid_user = User(id=\"uno\", name=\"Luis\", email=\"luis@example.com\")\n",
    "except ValueError as e:\n",
    "    print(e)"
   ]
  }
 ],
 "metadata": {
  "kernelspec": {
   "display_name": "venv",
   "language": "python",
   "name": "python3"
  },
  "language_info": {
   "codemirror_mode": {
    "name": "ipython",
    "version": 3
   },
   "file_extension": ".py",
   "mimetype": "text/x-python",
   "name": "python",
   "nbconvert_exporter": "python",
   "pygments_lexer": "ipython3",
   "version": "3.12.3"
  }
 },
 "nbformat": 4,
 "nbformat_minor": 2
}
